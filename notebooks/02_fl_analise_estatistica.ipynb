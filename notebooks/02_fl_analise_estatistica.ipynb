{
 "cells": [
  {
   "cell_type": "markdown",
   "metadata": {},
   "source": [
    "# Análise exploratória dos dados (EDA)"
   ]
  },
  {
   "cell_type": "markdown",
   "metadata": {},
   "source": [
    "O diabetes é uma doença crônica grave na qual os indivíduos perdem a capacidade de regular efetivamente os níveis de glicose no sangue e pode levar a uma redução na qualidade de vida e na expectativa de vida.\n",
    "\n",
    "O Sistema de Vigilância de Fatores de Risco Comportamentais (BRFSS) é uma pesquisa telefônica relacionada à saúde que é coletada anualmente pelo CDC (Centro de Controle e Prevenção de Doenças dos Estados Unidos). A cada ano, a pesquisa coleta respostas de milhares de americanos sobre comportamentos de risco relacionados à saúde, condições crônicas de saúde e o uso de serviços preventivos. Para este projeto, foi utilizado conjunto de dados disponível no Kaggle para o ano de 2015. \n",
    "\n",
    "https://www.kaggle.com/datasets/alexteboul/diabetes-health-indicators-dataset"
   ]
  },
  {
   "cell_type": "markdown",
   "metadata": {},
   "source": [
    "Dicionário de variáveis:\n",
    "\n",
    "- `Diabetes_binary`: 0 = sem diabetes, 1 = com diabetes\n",
    "- `HighBP`: 0 = sem pressão alta, 1 = com pressão alta\n",
    "- `HighChol`: 0 = sem colesterol alto, 1 = com colesterol alto\n",
    "- `CholCheck`: 0 = não fez exame de colesterol na vida, 1 = fez exame de colesterol alguma vez\n",
    "- `BMI`: Índice de Massa Corporal (IMC)\n",
    "- `Smoker`: 0 = não fumante, 1 = fumante\n",
    "- `Stroke`: 0 = sem histórico de AVC, 1 = com histórico de AVC\n",
    "- `HeartDiseaseorAttack`: 0 = sem histórico de doença cardíaca ou ataque cardíaco, 1 = com histórico de doença cardíaca ou ataque cardíaco\n",
    "- `PhysActivity`: 0 = não pratica atividade física, 1 = pratica atividade física\n",
    "- `Fruits`: 0 = não consome frutas, 1 = consome frutas\n",
    "- `Veggies`: 0 = não consome vegetais, 1 = consome vegetais\n",
    "- `HvyAlcoholConsump`: 0 = não consome álcool em altas quantidades, 1 = consome álcool em altas quantidades\n",
    "- `AnyHealthcare`: 0 = não tem plano de saúde, 1 = tem plano de saúde\n",
    "- `NoDocbcCost`: 0 = não foi ao médico por questões financeiras, 1 = foi ao médico por questões financeiras (últimos 12 meses)\n",
    "- `GenHlth`: Saúde geral (1 a 5) - 1 = Excelente, 2 = Muito boa, 3 = Boa, 4 = Aceitável, 5 = Ruim\n",
    "- `MentHlth`: Nos últimos 30 dias, quantos dias a saúde mental não foi boa (0 a 30)\n",
    "- `PhysHlth`: Nos últimos 30 dias, quantos dias a saúde física não foi boa (0 a 30)\n",
    "- `DiffWalk`: 0 = não tem dificuldade para caminhar, 1 = tem dificuldade para caminhar\n",
    "- `Sex`: 0 = feminino, 1 = masculino\n",
    "- `Age`: Idade em faixas 1 = 18-24; 2 = 25-29; 3 = 30-34; 4 = 35-39; 5 = 40-44; 6 = 45-49; 7 = 50-54; 8 = 55-59; 9 = 60-64; 10 = 65-69; 11 = 70-74; 12 = 75-79; 13 = 80+\n",
    "- `Education`: Níveis de ensino 1 = nunca frequentou a escola; 2 = escola primária; 3 = escola secundária incompleta ; 4 = escola secundária; 5 = faculdade incompleta ou curso técnico; 6 = completou faculdade ou diplomas superiores\n",
    "- `Income`: Renda anual (dólares) em faixas 1 = < 10.000; 2 = 10.000-14.999; 3 = 15.000-19.999; 4 = 20.000-24.999; 5 = 25.000-34.999; 6 = 35.000-49.999; 7 = 50.000-74.999; 8 = 75.000+"
   ]
  },
  {
   "cell_type": "code",
   "execution_count": 4,
   "metadata": {
    "metadata": {}
   },
   "outputs": [],
   "source": [
    "import matplotlib.pyplot as plt\n",
    "from matplotlib.ticker import PercentFormatter\n",
    "import numpy as np\n",
    "import pandas as pd\n",
    "from scipy.stats import chi2_contingency, kstest, norm\n",
    "import seaborn as sns\n",
    "\n",
    "# funções desenvolvidas para o projeto\n",
    "from src.estatistica import (\n",
    "    analise_levene,\n",
    "    analise_mannwhitneyu,\n",
    "    analise_ttest_ind,\n",
    "    remove_outliers,\n",
    ")\n",
    "from src.config import DADOS_TRATADOS"
   ]
  },
  {
   "cell_type": "code",
   "execution_count": null,
   "metadata": {},
   "outputs": [],
   "source": [
    "df_diabetes_tratado = pd.read_parquet(DADOS_TRATADOS)\n",
    "\n",
    "df_diabetes_tratado.head()"
   ]
  },
  {
   "cell_type": "code",
   "execution_count": null,
   "metadata": {},
   "outputs": [],
   "source": [
    "df_diabetes_tratado.info()"
   ]
  },
  {
   "cell_type": "markdown",
   "metadata": {},
   "source": [
    "A FAZER: explicar todas as etapas com células de markdown."
   ]
  },
  {
   "cell_type": "code",
   "execution_count": null,
   "metadata": {},
   "outputs": [],
   "source": [
    "colunas_numericas = df_diabetes_tratado.select_dtypes(include=\"number\").columns.tolist()\n",
    "\n",
    "coluna_alvo = \"Diabetes\"\n",
    "\n",
    "colunas_categoricas = df_diabetes_tratado.select_dtypes(include=\"category\").columns.tolist()\n",
    "colunas_categoricas.remove(coluna_alvo)\n",
    "\n",
    "colunas_binarias = df_diabetes_tratado.nunique()[df_diabetes_tratado.nunique() == 2].index.tolist()\n",
    "colunas_binarias.remove(coluna_alvo)\n",
    "\n",
    "colunas_nao_binarias = list(set(colunas_categoricas) - set(colunas_binarias))"
   ]
  },
  {
   "cell_type": "code",
   "execution_count": null,
   "metadata": {},
   "outputs": [],
   "source": [
    "colunas_numericas"
   ]
  },
  {
   "cell_type": "code",
   "execution_count": null,
   "metadata": {},
   "outputs": [],
   "source": [
    "coluna_alvo"
   ]
  },
  {
   "cell_type": "code",
   "execution_count": null,
   "metadata": {},
   "outputs": [],
   "source": [
    "colunas_categoricas"
   ]
  },
  {
   "cell_type": "code",
   "execution_count": null,
   "metadata": {},
   "outputs": [],
   "source": [
    "colunas_binarias"
   ]
  },
  {
   "cell_type": "code",
   "execution_count": null,
   "metadata": {},
   "outputs": [],
   "source": [
    "colunas_nao_binarias"
   ]
  },
  {
   "cell_type": "markdown",
   "metadata": {},
   "source": [
    "## Variáveis numéricas"
   ]
  },
  {
   "cell_type": "code",
   "execution_count": null,
   "metadata": {},
   "outputs": [],
   "source": [
    "fig, axs = plt.subplots(1, 3, figsize=(10, 4))\n",
    "\n",
    "for ax, coluna in zip(axs, colunas_numericas):\n",
    "    sns.boxplot(data=df_diabetes_tratado, x=coluna_alvo, y=coluna, ax=ax)\n",
    "\n",
    "plt.tight_layout()\n",
    "plt.show()"
   ]
  },
  {
   "cell_type": "code",
   "execution_count": null,
   "metadata": {},
   "outputs": [],
   "source": [
    "fig, axs = plt.subplots(1, 3, figsize=(10, 4))\n",
    "\n",
    "for ax, coluna in zip(axs, colunas_numericas):\n",
    "    sns.histplot(data=df_diabetes_tratado, x=coluna, hue=coluna_alvo, kde=True, ax=ax)\n",
    "\n",
    "plt.tight_layout()\n",
    "plt.show()"
   ]
  },
  {
   "cell_type": "markdown",
   "metadata": {},
   "source": [
    "- atenção para os dados de IMC terem sido arredondados para inteiros\n",
    "- será que considerar que há diferença entre diabéticos e não diabéticos considerando IMC?"
   ]
  },
  {
   "cell_type": "code",
   "execution_count": null,
   "metadata": {},
   "outputs": [],
   "source": [
    "df_diabetes_tratado.groupby(coluna_alvo, observed=False).describe().T"
   ]
  },
  {
   "cell_type": "code",
   "execution_count": null,
   "metadata": {},
   "outputs": [],
   "source": [
    "df_diabetes_tratado.corr(numeric_only=True)"
   ]
  },
  {
   "cell_type": "markdown",
   "metadata": {},
   "source": [
    "- teste t de Student para comparar médias de IMC entre diabéticos e não diabéticos?\n",
    "- ou teste de Mann-Whitney U para comparar medianas de IMC entre diabéticos e não diabéticos?"
   ]
  },
  {
   "cell_type": "markdown",
   "metadata": {},
   "source": [
    "### Faz sentido testar a normalidade das variáveis numéricas?"
   ]
  },
  {
   "cell_type": "code",
   "execution_count": null,
   "metadata": {},
   "outputs": [],
   "source": [
    "df_diabetes_tratado.groupby(coluna_alvo, observed=False).skew(numeric_only=True)"
   ]
  },
  {
   "cell_type": "code",
   "execution_count": null,
   "metadata": {},
   "outputs": [],
   "source": [
    "df_diabetes_tratado.groupby(coluna_alvo, observed=False)[colunas_numericas].apply(pd.DataFrame.kurtosis)"
   ]
  },
  {
   "cell_type": "code",
   "execution_count": null,
   "metadata": {},
   "outputs": [],
   "source": [
    "dados_imc_sim = df_diabetes_tratado.query(\"Diabetes == 'Sim'\")[\"IMC\"].values\n",
    "\n",
    "dados_imc_nao = df_diabetes_tratado.query(\"Diabetes == 'Não'\")[\"IMC\"].values"
   ]
  },
  {
   "cell_type": "code",
   "execution_count": null,
   "metadata": {},
   "outputs": [],
   "source": [
    "print(kstest(dados_imc_nao, norm.cdf, args=(dados_imc_nao.mean(), dados_imc_nao.std())))\n",
    "print(kstest(dados_imc_sim, norm.cdf, args=(dados_imc_sim.mean(), dados_imc_sim.std())))"
   ]
  },
  {
   "cell_type": "code",
   "execution_count": null,
   "metadata": {},
   "outputs": [],
   "source": [
    "dataframe_imc = pd.DataFrame({\"Sim\": dados_imc_sim, \"Não\": dados_imc_nao})\n",
    "\n",
    "dataframe_imc"
   ]
  },
  {
   "cell_type": "code",
   "execution_count": null,
   "metadata": {},
   "outputs": [],
   "source": [
    "from src.auxiliares import analise_levene\n",
    "\n",
    "analise_levene(dataframe_imc, centro=\"median\")"
   ]
  },
  {
   "cell_type": "code",
   "execution_count": null,
   "metadata": {},
   "outputs": [],
   "source": [
    "from src.auxiliares import analise_ttest_ind, analise_manwhitney\n",
    "\n",
    "analise_ttest_ind(dataframe_imc, variancias_iguais=False)\n"
   ]
  },
  {
   "cell_type": "code",
   "execution_count": null,
   "metadata": {},
   "outputs": [],
   "source": [
    "analise_mannwhitneyu(dataframe_imc)"
   ]
  },
  {
   "cell_type": "markdown",
   "metadata": {},
   "source": [
    "### Os outliers interferem?"
   ]
  },
  {
   "cell_type": "code",
   "execution_count": null,
   "metadata": {},
   "outputs": [],
   "source": [
    "df_diabetes_sem_outliers = df_diabetes_tratado.copy()\n",
    "\n",
    "for coluna in colunas_numericas:\n",
    "    df_diabetes_sem_outliers[coluna] = remove_outliers(df_diabetes_sem_outliers[coluna])\n",
    "\n",
    "df_diabetes_sem_outliers.describe()"
   ]
  },
  {
   "cell_type": "code",
   "execution_count": null,
   "metadata": {},
   "outputs": [],
   "source": [
    "df_diabetes_sem_outliers.info()"
   ]
  },
  {
   "cell_type": "code",
   "execution_count": null,
   "metadata": {},
   "outputs": [],
   "source": [
    "fig, axs = plt.subplots(1, 3, figsize=(10, 4))\n",
    "\n",
    "for ax, coluna in zip(axs, colunas_numericas):\n",
    "    sns.boxplot(data=df_diabetes_sem_outliers, x=coluna_alvo, y=coluna, ax=ax)\n",
    "\n",
    "plt.tight_layout()\n",
    "plt.show()\n"
   ]
  },
  {
   "cell_type": "code",
   "execution_count": null,
   "metadata": {},
   "outputs": [],
   "source": [
    "fig, axs = plt.subplots(1, 3, figsize=(10, 4))\n",
    "\n",
    "for ax, coluna in zip(axs, colunas_numericas):\n",
    "    sns.histplot(data=df_diabetes_sem_outliers, x=coluna, hue=coluna_alvo, kde=True, ax=ax)\n",
    "\n",
    "plt.tight_layout()\n",
    "plt.show()"
   ]
  },
  {
   "cell_type": "code",
   "execution_count": null,
   "metadata": {},
   "outputs": [],
   "source": [
    "df_diabetes_sem_outliers.groupby(coluna_alvo, observed=False).skew(numeric_only=True)"
   ]
  },
  {
   "cell_type": "code",
   "execution_count": null,
   "metadata": {},
   "outputs": [],
   "source": [
    "df_diabetes_sem_outliers.groupby(coluna_alvo, observed=False)[colunas_numericas].apply(pd.DataFrame.kurtosis)"
   ]
  },
  {
   "cell_type": "code",
   "execution_count": null,
   "metadata": {},
   "outputs": [],
   "source": [
    "dados_imc_sim_sem_outliers = df_diabetes_sem_outliers.query(\"Diabetes == 'Sim'\")[\"IMC\"].values\n",
    "dados_imc_nao_sem_outliers = df_diabetes_sem_outliers.query(\"Diabetes == 'Não'\")[\"IMC\"].values\n",
    "\n",
    "dataframe_imc_sem_outliers = pd.DataFrame({\"Sim\": dados_imc_sim_sem_outliers, \"Não\": dados_imc_nao_sem_outliers})\n",
    "dataframe_imc_sem_outliers"
   ]
  },
  {
   "cell_type": "code",
   "execution_count": null,
   "metadata": {},
   "outputs": [],
   "source": [
    "dados_imc_nao_sem_outliers.mean()"
   ]
  },
  {
   "cell_type": "code",
   "execution_count": null,
   "metadata": {},
   "outputs": [],
   "source": [
    "dataframe_imc_sem_outliers[\"Não\"].mean()"
   ]
  },
  {
   "cell_type": "code",
   "execution_count": null,
   "metadata": {},
   "outputs": [],
   "source": [
    "print(\n",
    "    kstest(\n",
    "        dataframe_imc_sem_outliers[\"Não\"], \n",
    "        norm.cdf, \n",
    "        args=(dataframe_imc_sem_outliers[\"Não\"].mean(), \n",
    "              dataframe_imc_sem_outliers[\"Não\"].std()), \n",
    "        nan_policy=\"omit\")\n",
    ")\n",
    "\n",
    "print(\n",
    "    kstest(\n",
    "        dataframe_imc_sem_outliers[\"Sim\"], \n",
    "        norm.cdf, \n",
    "        args=(dataframe_imc_sem_outliers[\"Sim\"].mean(), \n",
    "              dataframe_imc_sem_outliers[\"Sim\"].std()), \n",
    "        nan_policy=\"omit\")\n",
    ")"
   ]
  },
  {
   "cell_type": "code",
   "execution_count": null,
   "metadata": {},
   "outputs": [],
   "source": [
    "analise_levene(dataframe_imc_sem_outliers, centro=\"median\")"
   ]
  },
  {
   "cell_type": "code",
   "execution_count": null,
   "metadata": {},
   "outputs": [],
   "source": [
    "analise_ttest_ind(dataframe_imc_sem_outliers, variancias_iguais=False)"
   ]
  },
  {
   "cell_type": "code",
   "execution_count": null,
   "metadata": {},
   "outputs": [],
   "source": [
    "analise_mannwhitneyu(dataframe_imc_sem_outliers)"
   ]
  },
  {
   "cell_type": "markdown",
   "metadata": {},
   "source": [
    "Links e artigos sobre testes de hipótese em datasets grandes:\n",
    "\n",
    "- https://stats.stackexchange.com/questions/2492/is-normality-testing-essentially-useless\n",
    "- https://www.ncbi.nlm.nih.gov/pmc/articles/PMC3693611/pdf/ijem-10-486.pdf\n",
    "- https://www.bmj.com/content/bmj/310/6975/298.full.pdf\n",
    "- https://bmcmedresmethodol.biomedcentral.com/articles/10.1186/1471-2288-12-81"
   ]
  },
  {
   "cell_type": "markdown",
   "metadata": {},
   "source": [
    "### Variáveis categóricas"
   ]
  },
  {
   "cell_type": "code",
   "execution_count": null,
   "metadata": {},
   "outputs": [],
   "source": [
    "fig, axs = plt.subplots(nrows=4, ncols=4, figsize=(14, 16), sharey=True)\n",
    "\n",
    "for i, coluna in enumerate(colunas_binarias):\n",
    "    h = sns.histplot(x=coluna,\n",
    "                     hue=coluna_alvo,\n",
    "                     data=df_diabetes_tratado,\n",
    "                     multiple='fill',\n",
    "                     ax=axs.flat[i],\n",
    "                     stat='percent',\n",
    "                     shrink=0.8)\n",
    "    h.tick_params(axis='x', labelrotation=45)\n",
    "\n",
    "    h.yaxis.set_major_formatter(PercentFormatter(1))\n",
    "    h.set_ylabel('')\n",
    "\n",
    "    for bar in h.containers:\n",
    "        h.bar_label(bar, label_type='center', labels=[f'{b.get_height():.1%}' for b in bar], color='white', weight='bold')\n",
    "\n",
    "    legend = h.get_legend()\n",
    "    legend.remove()\n",
    "\n",
    "labels = [text.get_text() for text in legend.get_texts()]\n",
    "\n",
    "fig.legend(handles=legend.legend_handles, labels=labels, loc='upper center', ncols=2, title='Diabetes', bbox_to_anchor=(0.5, 0.965))\n",
    "fig.suptitle('Diabetes por variável categórica', fontsize=16)\n",
    "\n",
    "fig.align_labels()\n",
    "\n",
    "plt.subplots_adjust(wspace=0.4, hspace=0.4, top=0.925)\n",
    "\n",
    "plt.show()"
   ]
  },
  {
   "cell_type": "code",
   "execution_count": null,
   "metadata": {},
   "outputs": [],
   "source": [
    "fig, axs = plt.subplots(nrows=4, ncols=1, figsize=(12, 16))\n",
    "\n",
    "for i, coluna in enumerate(colunas_nao_binarias):\n",
    "    h = sns.histplot(x=coluna,\n",
    "                     hue=coluna_alvo,\n",
    "                     data=df_diabetes_tratado,\n",
    "                     multiple='fill',\n",
    "                     ax=axs.flat[i],\n",
    "                     stat='percent',\n",
    "                     shrink=0.8)\n",
    "    h.tick_params(axis='x', labelrotation=45)\n",
    "\n",
    "    h.yaxis.set_major_formatter(PercentFormatter(1))\n",
    "    h.set_ylabel('')\n",
    "\n",
    "    for bar in h.containers:\n",
    "        h.bar_label(bar, label_type='center', labels=[f'{b.get_height():.1%}' for b in bar], color='white', weight='bold')\n",
    "\n",
    "    legend = h.get_legend()\n",
    "    legend.remove()\n",
    "\n",
    "labels = [text.get_text() for text in legend.get_texts()]\n",
    "\n",
    "fig.legend(handles=legend.legend_handles, labels=labels, loc='upper center', ncols=2, title='Diabetes', bbox_to_anchor=(0.5, 0.965))\n",
    "fig.suptitle('Diabetes por variável categórica', fontsize=16)\n",
    "\n",
    "fig.align_labels()\n",
    "\n",
    "plt.subplots_adjust(wspace=0.1, hspace=0.7, top=0.925)\n",
    "\n",
    "plt.show()"
   ]
  },
  {
   "cell_type": "code",
   "execution_count": null,
   "metadata": {},
   "outputs": [],
   "source": [
    "colunas_analise = [\"SaudeGeral\", \"FaixaRenda\"]\n",
    "\n",
    "fig, axs = plt.subplots(nrows=2, ncols=1, figsize=(12, 16))\n",
    "\n",
    "for ax, coluna in zip(axs.flatten(), colunas_analise):\n",
    "    h = sns.histplot(x=\"Ensino\",\n",
    "                     hue=coluna,\n",
    "                     data=df_diabetes_tratado,\n",
    "                     multiple='fill',\n",
    "                     ax=ax,\n",
    "                     stat='percent',\n",
    "                     shrink=0.8)\n",
    "    h.tick_params(axis='x', labelrotation=45)\n",
    "\n",
    "    h.yaxis.set_major_formatter(PercentFormatter(1))\n",
    "    h.set_ylabel('')\n",
    "\n",
    "    for bar in h.containers:\n",
    "        h.bar_label(bar, label_type='center', labels=[f'{b.get_height():.1%}' for b in bar], color='white', weight='bold')\n",
    "\n",
    "    legend = h.get_legend()\n",
    "\n",
    "    labels = [text.get_text() for text in legend.get_texts()]\n",
    "\n",
    "    numero_itens = len(df_diabetes_tratado[coluna].cat.categories)\n",
    "\n",
    "    ax.legend(\n",
    "        handles=legend.legend_handles,\n",
    "        labels=labels,\n",
    "        loc=\"upper center\",\n",
    "        ncols=numero_itens if numero_itens <= 6 else min(4, numero_itens),\n",
    "        bbox_to_anchor=(0.5, 1.15),\n",
    "    )\n",
    "\n",
    "    ax.set_title(f\"Distribuição de {coluna} por nível de ensino\", fontsize=14, pad=55)\n",
    "\n",
    "plt.subplots_adjust(wspace=0.1, hspace=0.6, top=0.925)\n",
    "\n",
    "plt.show()"
   ]
  },
  {
   "cell_type": "code",
   "execution_count": null,
   "metadata": {},
   "outputs": [],
   "source": [
    "tabelas_contingencia = {}\n",
    "\n",
    "for coluna in df_diabetes_tratado.select_dtypes(\"category\").columns:\n",
    "    if coluna != coluna_alvo:\n",
    "        tabelas_contingencia[coluna] = pd.crosstab(df_diabetes_tratado[coluna_alvo], df_diabetes_tratado[coluna])"
   ]
  },
  {
   "cell_type": "code",
   "execution_count": null,
   "metadata": {},
   "outputs": [],
   "source": [
    "tabelas_contingencia[\"PressaoAlta\"]"
   ]
  },
  {
   "cell_type": "code",
   "execution_count": null,
   "metadata": {},
   "outputs": [],
   "source": [
    "for coluna in df_diabetes_tratado.select_dtypes(\"category\").columns:\n",
    "    if coluna != coluna_alvo:\n",
    "        display(\n",
    "            pd.crosstab(\n",
    "                df_diabetes_tratado[coluna_alvo],\n",
    "                df_diabetes_tratado[coluna],\n",
    "                margins=True,\n",
    "                normalize=\"index\"\n",
    "            ).style.format(\"{:.2%}\"))"
   ]
  },
  {
   "cell_type": "code",
   "execution_count": null,
   "metadata": {},
   "outputs": [],
   "source": [
    "for coluna, tabela in tabelas_contingencia.items():\n",
    "    chi2, valor_p, _, _ = chi2_contingency(tabela)\n",
    "    print(f\"{coluna} - {chi2=} - {valor_p=}\")"
   ]
  },
  {
   "cell_type": "code",
   "execution_count": null,
   "metadata": {},
   "outputs": [],
   "source": [
    "resultados_correlacao = df_diabetes_tratado.select_dtypes(\"category\").apply(lambda coluna: coluna.cat.codes).corr(method=\"spearman\", numeric_only=False)\n",
    "\n",
    "resultados_correlacao"
   ]
  },
  {
   "cell_type": "code",
   "execution_count": null,
   "metadata": {},
   "outputs": [],
   "source": [
    "matriz = np.triu(resultados_correlacao)\n",
    "\n",
    "fig, ax = plt.subplots(figsize=(12, 12))\n",
    "\n",
    "sns.heatmap(resultados_correlacao, mask=matriz, annot=True, fmt=\".2f\", ax=ax, cmap=\"coolwarm\")\n",
    "\n",
    "plt.title(\"Coeficiente de Spearman entre variáveis categóricas\", fontsize=16)\n",
    "\n",
    "plt.show()"
   ]
  }
 ],
 "metadata": {
  "kernelspec": {
   "display_name": "Python 3 (ipykernel)",
   "language": "python",
   "name": "python3"
  },
  "language_info": {
   "codemirror_mode": {
    "name": "ipython",
    "version": 3
   },
   "file_extension": ".py",
   "mimetype": "text/x-python",
   "name": "python",
   "nbconvert_exporter": "python",
   "pygments_lexer": "ipython3",
   "version": "3.12.4"
  }
 },
 "nbformat": 4,
 "nbformat_minor": 4
}
