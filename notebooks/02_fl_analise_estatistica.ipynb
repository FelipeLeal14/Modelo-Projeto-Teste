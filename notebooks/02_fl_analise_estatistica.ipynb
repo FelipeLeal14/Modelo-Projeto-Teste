{
 "cells": [
  {
   "cell_type": "markdown",
   "metadata": {},
   "source": [
    "# Análise exploratória dos dados (EDA)"
   ]
  },
  {
   "cell_type": "markdown",
   "metadata": {},
   "source": [
    "O diabetes é uma doença crônica grave na qual os indivíduos perdem a capacidade de regular efetivamente os níveis de glicose no sangue e pode levar a uma redução na qualidade de vida e na expectativa de vida.\n",
    "\n",
    "O Sistema de Vigilância de Fatores de Risco Comportamentais (BRFSS) é uma pesquisa telefônica relacionada à saúde que é coletada anualmente pelo CDC (Centro de Controle e Prevenção de Doenças dos Estados Unidos). A cada ano, a pesquisa coleta respostas de milhares de americanos sobre comportamentos de risco relacionados à saúde, condições crônicas de saúde e o uso de serviços preventivos. Para este projeto, foi utilizado conjunto de dados disponível no Kaggle para o ano de 2015. \n",
    "\n",
    "https://www.kaggle.com/datasets/alexteboul/diabetes-health-indicators-dataset"
   ]
  },
  {
   "cell_type": "markdown",
   "metadata": {},
   "source": [
    "Dicionário de variáveis:\n",
    "\n",
    "- `Diabetes_binary`: 0 = sem diabetes, 1 = com diabetes\n",
    "- `HighBP`: 0 = sem pressão alta, 1 = com pressão alta\n",
    "- `HighChol`: 0 = sem colesterol alto, 1 = com colesterol alto\n",
    "- `CholCheck`: 0 = não fez exame de colesterol na vida, 1 = fez exame de colesterol alguma vez\n",
    "- `BMI`: Índice de Massa Corporal (IMC)\n",
    "- `Smoker`: 0 = não fumante, 1 = fumante\n",
    "- `Stroke`: 0 = sem histórico de AVC, 1 = com histórico de AVC\n",
    "- `HeartDiseaseorAttack`: 0 = sem histórico de doença cardíaca ou ataque cardíaco, 1 = com histórico de doença cardíaca ou ataque cardíaco\n",
    "- `PhysActivity`: 0 = não pratica atividade física, 1 = pratica atividade física\n",
    "- `Fruits`: 0 = não consome frutas, 1 = consome frutas\n",
    "- `Veggies`: 0 = não consome vegetais, 1 = consome vegetais\n",
    "- `HvyAlcoholConsump`: 0 = não consome álcool em altas quantidades, 1 = consome álcool em altas quantidades\n",
    "- `AnyHealthcare`: 0 = não tem plano de saúde, 1 = tem plano de saúde\n",
    "- `NoDocbcCost`: 0 = não foi ao médico por questões financeiras, 1 = foi ao médico por questões financeiras (últimos 12 meses)\n",
    "- `GenHlth`: Saúde geral (1 a 5) - 1 = Excelente, 2 = Muito boa, 3 = Boa, 4 = Aceitável, 5 = Ruim\n",
    "- `MentHlth`: Nos últimos 30 dias, quantos dias a saúde mental não foi boa (0 a 30)\n",
    "- `PhysHlth`: Nos últimos 30 dias, quantos dias a saúde física não foi boa (0 a 30)\n",
    "- `DiffWalk`: 0 = não tem dificuldade para caminhar, 1 = tem dificuldade para caminhar\n",
    "- `Sex`: 0 = feminino, 1 = masculino\n",
    "- `Age`: Idade em faixas 1 = 18-24; 2 = 25-29; 3 = 30-34; 4 = 35-39; 5 = 40-44; 6 = 45-49; 7 = 50-54; 8 = 55-59; 9 = 60-64; 10 = 65-69; 11 = 70-74; 12 = 75-79; 13 = 80+\n",
    "- `Education`: Níveis de ensino 1 = nunca frequentou a escola; 2 = escola primária; 3 = escola secundária incompleta ; 4 = escola secundária; 5 = faculdade incompleta ou curso técnico; 6 = completou faculdade ou diplomas superiores\n",
    "- `Income`: Renda anual (dólares) em faixas 1 = < 10.000; 2 = 10.000-14.999; 3 = 15.000-19.999; 4 = 20.000-24.999; 5 = 25.000-34.999; 6 = 35.000-49.999; 7 = 50.000-74.999; 8 = 75.000+"
   ]
  },
  {
   "cell_type": "code",
   "execution_count": 4,
   "metadata": {
    "metadata": {}
   },
   "outputs": [],
   "source": [
    "import matplotlib.pyplot as plt\n",
    "from matplotlib.ticker import PercentFormatter\n",
    "import numpy as np\n",
    "import pandas as pd\n",
    "from scipy.stats import chi2_contingency, kstest, norm\n",
    "import seaborn as sns\n",
    "\n",
    "# funções desenvolvidas para o projeto\n",
    "from src.estatistica import (\n",
    "    analise_levene,\n",
    "    analise_mannwhitneyu,\n",
    "    analise_ttest_ind,\n",
    "    remove_outliers,\n",
    ")\n",
    "from src.config import DADOS_TRATADOS"
   ]
  },
  {
   "cell_type": "code",
   "execution_count": 5,
   "metadata": {},
   "outputs": [
    {
     "data": {
      "text/html": [
       "<div>\n",
       "<style scoped>\n",
       "    .dataframe tbody tr th:only-of-type {\n",
       "        vertical-align: middle;\n",
       "    }\n",
       "\n",
       "    .dataframe tbody tr th {\n",
       "        vertical-align: top;\n",
       "    }\n",
       "\n",
       "    .dataframe thead th {\n",
       "        text-align: right;\n",
       "    }\n",
       "</style>\n",
       "<table border=\"1\" class=\"dataframe\">\n",
       "  <thead>\n",
       "    <tr style=\"text-align: right;\">\n",
       "      <th></th>\n",
       "      <th>Diabetes</th>\n",
       "      <th>PressaoAlta</th>\n",
       "      <th>ColesterolAlto</th>\n",
       "      <th>ColesterolExame</th>\n",
       "      <th>IMC</th>\n",
       "      <th>Fumante</th>\n",
       "      <th>AVC</th>\n",
       "      <th>ProblemaCardiaco</th>\n",
       "      <th>AtividadeFisica</th>\n",
       "      <th>ComeFrutas</th>\n",
       "      <th>...</th>\n",
       "      <th>PlanoSaude</th>\n",
       "      <th>SemDinheiroConsultas</th>\n",
       "      <th>SaudeGeral</th>\n",
       "      <th>DiasProblemasMentais</th>\n",
       "      <th>DiasProblemasFisicos</th>\n",
       "      <th>DificuldadeAndar</th>\n",
       "      <th>Genero</th>\n",
       "      <th>FaixaIdade</th>\n",
       "      <th>Ensino</th>\n",
       "      <th>FaixaRenda</th>\n",
       "    </tr>\n",
       "  </thead>\n",
       "  <tbody>\n",
       "    <tr>\n",
       "      <th>0</th>\n",
       "      <td>Não</td>\n",
       "      <td>Sim</td>\n",
       "      <td>Não</td>\n",
       "      <td>Sim</td>\n",
       "      <td>26</td>\n",
       "      <td>Não</td>\n",
       "      <td>Não</td>\n",
       "      <td>Não</td>\n",
       "      <td>Sim</td>\n",
       "      <td>Não</td>\n",
       "      <td>...</td>\n",
       "      <td>Sim</td>\n",
       "      <td>Não</td>\n",
       "      <td>Boa</td>\n",
       "      <td>5</td>\n",
       "      <td>30</td>\n",
       "      <td>Não</td>\n",
       "      <td>Masculino</td>\n",
       "      <td>35-39</td>\n",
       "      <td>Faculdade +</td>\n",
       "      <td>$75.000+</td>\n",
       "    </tr>\n",
       "    <tr>\n",
       "      <th>1</th>\n",
       "      <td>Não</td>\n",
       "      <td>Sim</td>\n",
       "      <td>Sim</td>\n",
       "      <td>Sim</td>\n",
       "      <td>26</td>\n",
       "      <td>Sim</td>\n",
       "      <td>Sim</td>\n",
       "      <td>Não</td>\n",
       "      <td>Não</td>\n",
       "      <td>Sim</td>\n",
       "      <td>...</td>\n",
       "      <td>Sim</td>\n",
       "      <td>Não</td>\n",
       "      <td>Boa</td>\n",
       "      <td>0</td>\n",
       "      <td>0</td>\n",
       "      <td>Não</td>\n",
       "      <td>Masculino</td>\n",
       "      <td>75-79</td>\n",
       "      <td>Faculdade +</td>\n",
       "      <td>$75.000+</td>\n",
       "    </tr>\n",
       "    <tr>\n",
       "      <th>2</th>\n",
       "      <td>Não</td>\n",
       "      <td>Não</td>\n",
       "      <td>Não</td>\n",
       "      <td>Sim</td>\n",
       "      <td>26</td>\n",
       "      <td>Não</td>\n",
       "      <td>Não</td>\n",
       "      <td>Não</td>\n",
       "      <td>Sim</td>\n",
       "      <td>Sim</td>\n",
       "      <td>...</td>\n",
       "      <td>Sim</td>\n",
       "      <td>Não</td>\n",
       "      <td>Excelente</td>\n",
       "      <td>0</td>\n",
       "      <td>10</td>\n",
       "      <td>Não</td>\n",
       "      <td>Masculino</td>\n",
       "      <td>80+</td>\n",
       "      <td>Faculdade +</td>\n",
       "      <td>$75.000+</td>\n",
       "    </tr>\n",
       "    <tr>\n",
       "      <th>3</th>\n",
       "      <td>Não</td>\n",
       "      <td>Sim</td>\n",
       "      <td>Sim</td>\n",
       "      <td>Sim</td>\n",
       "      <td>28</td>\n",
       "      <td>Sim</td>\n",
       "      <td>Não</td>\n",
       "      <td>Não</td>\n",
       "      <td>Sim</td>\n",
       "      <td>Sim</td>\n",
       "      <td>...</td>\n",
       "      <td>Sim</td>\n",
       "      <td>Não</td>\n",
       "      <td>Boa</td>\n",
       "      <td>0</td>\n",
       "      <td>3</td>\n",
       "      <td>Não</td>\n",
       "      <td>Masculino</td>\n",
       "      <td>70-74</td>\n",
       "      <td>Faculdade +</td>\n",
       "      <td>$75.000+</td>\n",
       "    </tr>\n",
       "    <tr>\n",
       "      <th>4</th>\n",
       "      <td>Não</td>\n",
       "      <td>Não</td>\n",
       "      <td>Não</td>\n",
       "      <td>Sim</td>\n",
       "      <td>29</td>\n",
       "      <td>Sim</td>\n",
       "      <td>Não</td>\n",
       "      <td>Não</td>\n",
       "      <td>Sim</td>\n",
       "      <td>Sim</td>\n",
       "      <td>...</td>\n",
       "      <td>Sim</td>\n",
       "      <td>Não</td>\n",
       "      <td>Muito boa</td>\n",
       "      <td>0</td>\n",
       "      <td>0</td>\n",
       "      <td>Não</td>\n",
       "      <td>Feminino</td>\n",
       "      <td>55-59</td>\n",
       "      <td>Faculdade inc. ou Técnico</td>\n",
       "      <td>$75.000+</td>\n",
       "    </tr>\n",
       "  </tbody>\n",
       "</table>\n",
       "<p>5 rows × 22 columns</p>\n",
       "</div>"
      ],
      "text/plain": [
       "  Diabetes PressaoAlta ColesterolAlto ColesterolExame  IMC Fumante  AVC  \\\n",
       "0      Não         Sim            Não             Sim   26     Não  Não   \n",
       "1      Não         Sim            Sim             Sim   26     Sim  Sim   \n",
       "2      Não         Não            Não             Sim   26     Não  Não   \n",
       "3      Não         Sim            Sim             Sim   28     Sim  Não   \n",
       "4      Não         Não            Não             Sim   29     Sim  Não   \n",
       "\n",
       "  ProblemaCardiaco AtividadeFisica ComeFrutas  ... PlanoSaude  \\\n",
       "0              Não             Sim        Não  ...        Sim   \n",
       "1              Não             Não        Sim  ...        Sim   \n",
       "2              Não             Sim        Sim  ...        Sim   \n",
       "3              Não             Sim        Sim  ...        Sim   \n",
       "4              Não             Sim        Sim  ...        Sim   \n",
       "\n",
       "  SemDinheiroConsultas SaudeGeral DiasProblemasMentais DiasProblemasFisicos  \\\n",
       "0                  Não        Boa                    5                   30   \n",
       "1                  Não        Boa                    0                    0   \n",
       "2                  Não  Excelente                    0                   10   \n",
       "3                  Não        Boa                    0                    3   \n",
       "4                  Não  Muito boa                    0                    0   \n",
       "\n",
       "   DificuldadeAndar     Genero FaixaIdade                     Ensino  \\\n",
       "0               Não  Masculino      35-39                Faculdade +   \n",
       "1               Não  Masculino      75-79                Faculdade +   \n",
       "2               Não  Masculino        80+                Faculdade +   \n",
       "3               Não  Masculino      70-74                Faculdade +   \n",
       "4               Não   Feminino      55-59  Faculdade inc. ou Técnico   \n",
       "\n",
       "  FaixaRenda  \n",
       "0   $75.000+  \n",
       "1   $75.000+  \n",
       "2   $75.000+  \n",
       "3   $75.000+  \n",
       "4   $75.000+  \n",
       "\n",
       "[5 rows x 22 columns]"
      ]
     },
     "execution_count": 5,
     "metadata": {},
     "output_type": "execute_result"
    }
   ],
   "source": [
    "df_diabetes_tratado = pd.read_parquet(DADOS_TRATADOS, engine = 'fastparquet')\n",
    "\n",
    "df_diabetes_tratado.head()"
   ]
  },
  {
   "cell_type": "code",
   "execution_count": 6,
   "metadata": {},
   "outputs": [
    {
     "name": "stdout",
     "output_type": "stream",
     "text": [
      "<class 'pandas.core.frame.DataFrame'>\n",
      "RangeIndex: 70692 entries, 0 to 70691\n",
      "Data columns (total 22 columns):\n",
      " #   Column                  Non-Null Count  Dtype   \n",
      "---  ------                  --------------  -----   \n",
      " 0   Diabetes                70692 non-null  category\n",
      " 1   PressaoAlta             70692 non-null  category\n",
      " 2   ColesterolAlto          70692 non-null  category\n",
      " 3   ColesterolExame         70692 non-null  category\n",
      " 4   IMC                     70692 non-null  int8    \n",
      " 5   Fumante                 70692 non-null  category\n",
      " 6   AVC                     70692 non-null  category\n",
      " 7   ProblemaCardiaco        70692 non-null  category\n",
      " 8   AtividadeFisica         70692 non-null  category\n",
      " 9   ComeFrutas              70692 non-null  category\n",
      " 10  ComeLegumes             70692 non-null  category\n",
      " 11  ConsumoBebidaAlcoolica  70692 non-null  category\n",
      " 12  PlanoSaude              70692 non-null  category\n",
      " 13  SemDinheiroConsultas    70692 non-null  category\n",
      " 14  SaudeGeral              70692 non-null  category\n",
      " 15  DiasProblemasMentais    70692 non-null  int8    \n",
      " 16  DiasProblemasFisicos    70692 non-null  int8    \n",
      " 17  DificuldadeAndar        70692 non-null  category\n",
      " 18  Genero                  70692 non-null  category\n",
      " 19  FaixaIdade              70692 non-null  category\n",
      " 20  Ensino                  70692 non-null  category\n",
      " 21  FaixaRenda              70692 non-null  category\n",
      "dtypes: category(19), int8(3)\n",
      "memory usage: 1.5 MB\n"
     ]
    }
   ],
   "source": [
    "df_diabetes_tratado.info()"
   ]
  },
  {
   "cell_type": "markdown",
   "metadata": {},
   "source": [
    "A FAZER: explicar todas as etapas com células de markdown."
   ]
  },
  {
   "cell_type": "code",
   "execution_count": 8,
   "metadata": {},
   "outputs": [],
   "source": [
    "colunas_numericas = df_diabetes_tratado.select_dtypes(include=\"number\").columns.tolist()\n",
    "\n",
    "coluna_alvo = \"Diabetes\"\n",
    "\n",
    "colunas_categoricas = df_diabetes_tratado.select_dtypes(include=\"category\").columns.tolist()\n",
    "colunas_categoricas.remove(coluna_alvo)\n",
    "\n",
    "colunas_binarias = df_diabetes_tratado.nunique()[df_diabetes_tratado.nunique() == 2].index.tolist()\n",
    "colunas_binarias.remove(coluna_alvo)\n",
    "\n",
    "colunas_nao_binarias = list(set(colunas_categoricas) - set(colunas_binarias))"
   ]
  },
  {
   "cell_type": "code",
   "execution_count": 9,
   "metadata": {},
   "outputs": [
    {
     "data": {
      "text/plain": [
       "['IMC', 'DiasProblemasMentais', 'DiasProblemasFisicos']"
      ]
     },
     "execution_count": 9,
     "metadata": {},
     "output_type": "execute_result"
    }
   ],
   "source": [
    "colunas_numericas"
   ]
  },
  {
   "cell_type": "code",
   "execution_count": 10,
   "metadata": {},
   "outputs": [
    {
     "data": {
      "text/plain": [
       "'Diabetes'"
      ]
     },
     "execution_count": 10,
     "metadata": {},
     "output_type": "execute_result"
    }
   ],
   "source": [
    "coluna_alvo"
   ]
  },
  {
   "cell_type": "code",
   "execution_count": 11,
   "metadata": {},
   "outputs": [
    {
     "data": {
      "text/plain": [
       "['PressaoAlta',\n",
       " 'ColesterolAlto',\n",
       " 'ColesterolExame',\n",
       " 'Fumante',\n",
       " 'AVC',\n",
       " 'ProblemaCardiaco',\n",
       " 'AtividadeFisica',\n",
       " 'ComeFrutas',\n",
       " 'ComeLegumes',\n",
       " 'ConsumoBebidaAlcoolica',\n",
       " 'PlanoSaude',\n",
       " 'SemDinheiroConsultas',\n",
       " 'SaudeGeral',\n",
       " 'DificuldadeAndar',\n",
       " 'Genero',\n",
       " 'FaixaIdade',\n",
       " 'Ensino',\n",
       " 'FaixaRenda']"
      ]
     },
     "execution_count": 11,
     "metadata": {},
     "output_type": "execute_result"
    }
   ],
   "source": [
    "colunas_categoricas"
   ]
  },
  {
   "cell_type": "code",
   "execution_count": 12,
   "metadata": {},
   "outputs": [
    {
     "data": {
      "text/plain": [
       "['PressaoAlta',\n",
       " 'ColesterolAlto',\n",
       " 'ColesterolExame',\n",
       " 'Fumante',\n",
       " 'AVC',\n",
       " 'ProblemaCardiaco',\n",
       " 'AtividadeFisica',\n",
       " 'ComeFrutas',\n",
       " 'ComeLegumes',\n",
       " 'ConsumoBebidaAlcoolica',\n",
       " 'PlanoSaude',\n",
       " 'SemDinheiroConsultas',\n",
       " 'DificuldadeAndar',\n",
       " 'Genero']"
      ]
     },
     "execution_count": 12,
     "metadata": {},
     "output_type": "execute_result"
    }
   ],
   "source": [
    "colunas_binarias"
   ]
  },
  {
   "cell_type": "code",
   "execution_count": 13,
   "metadata": {},
   "outputs": [
    {
     "data": {
      "text/plain": [
       "['FaixaRenda', 'FaixaIdade', 'SaudeGeral', 'Ensino']"
      ]
     },
     "execution_count": 13,
     "metadata": {},
     "output_type": "execute_result"
    }
   ],
   "source": [
    "colunas_nao_binarias"
   ]
  },
  {
   "cell_type": "markdown",
   "metadata": {},
   "source": [
    "## Variáveis numéricas"
   ]
  },
  {
   "cell_type": "code",
   "execution_count": 15,
   "metadata": {},
   "outputs": [
    {
     "data": {
      "image/png": "[encoded data removed]",
      "text/plain": [
       "<Figure size 1000x400 with 3 Axes>"
      ]
     },
     "metadata": {},
     "output_type": "display_data"
    }
   ],
   "source": [
    "fig, axs = plt.subplots(1, 3, figsize=(10, 4))\n",
    "\n",
    "for ax, coluna in zip(axs, colunas_numericas):\n",
    "    sns.boxplot(data=df_diabetes_tratado, x=coluna_alvo, y=coluna, ax=ax)\n",
    "\n",
    "plt.tight_layout()\n",
    "plt.show()"
   ]
  },
  {
   "cell_type": "code",
   "execution_count": 16,
   "metadata": {},
   "outputs": [
    {
     "data": {
      "image/png": "[encoded data removed]",
      "text/plain": [
       "<Figure size 1000x400 with 3 Axes>"
      ]
     },
     "metadata": {},
     "output_type": "display_data"
    }
   ],
   "source": [
    "fig, axs = plt.subplots(1, 3, figsize=(10, 4))\n",
    "\n",
    "for ax, coluna in zip(axs, colunas_numericas):\n",
    "    sns.histplot(data=df_diabetes_tratado, x=coluna, hue=coluna_alvo, kde=True, ax=ax)\n",
    "\n",
    "plt.tight_layout()\n",
    "plt.show()"
   ]
  },
  {
   "cell_type": "markdown",
   "metadata": {},
   "source": [
    "- atenção para os dados de IMC terem sido arredondados para inteiros\n",
    "- será que considerar que há diferença entre diabéticos e não diabéticos considerando IMC?"
   ]
  },
  {
   "cell_type": "code",
   "execution_count": 18,
   "metadata": {},
   "outputs": [
    {
     "data": {
      "text/html": [
       "<div>\n",
       "<style scoped>\n",
       "    .dataframe tbody tr th:only-of-type {\n",
       "        vertical-align: middle;\n",
       "    }\n",
       "\n",
       "    .dataframe tbody tr th {\n",
       "        vertical-align: top;\n",
       "    }\n",
       "\n",
       "    .dataframe thead th {\n",
       "        text-align: right;\n",
       "    }\n",
       "</style>\n",
       "<table border=\"1\" class=\"dataframe\">\n",
       "  <thead>\n",
       "    <tr style=\"text-align: right;\">\n",
       "      <th></th>\n",
       "      <th>Diabetes</th>\n",
       "      <th>Não</th>\n",
       "      <th>Sim</th>\n",
       "    </tr>\n",
       "  </thead>\n",
       "  <tbody>\n",
       "    <tr>\n",
       "      <th rowspan=\"8\" valign=\"top\">IMC</th>\n",
       "      <th>count</th>\n",
       "      <td>35346.000000</td>\n",
       "      <td>35346.000000</td>\n",
       "    </tr>\n",
       "    <tr>\n",
       "      <th>mean</th>\n",
       "      <td>27.769960</td>\n",
       "      <td>31.944011</td>\n",
       "    </tr>\n",
       "    <tr>\n",
       "      <th>std</th>\n",
       "      <td>6.187636</td>\n",
       "      <td>7.363401</td>\n",
       "    </tr>\n",
       "    <tr>\n",
       "      <th>min</th>\n",
       "      <td>12.000000</td>\n",
       "      <td>13.000000</td>\n",
       "    </tr>\n",
       "    <tr>\n",
       "      <th>25%</th>\n",
       "      <td>24.000000</td>\n",
       "      <td>27.000000</td>\n",
       "    </tr>\n",
       "    <tr>\n",
       "      <th>50%</th>\n",
       "      <td>27.000000</td>\n",
       "      <td>31.000000</td>\n",
       "    </tr>\n",
       "    <tr>\n",
       "      <th>75%</th>\n",
       "      <td>31.000000</td>\n",
       "      <td>35.000000</td>\n",
       "    </tr>\n",
       "    <tr>\n",
       "      <th>max</th>\n",
       "      <td>98.000000</td>\n",
       "      <td>98.000000</td>\n",
       "    </tr>\n",
       "    <tr>\n",
       "      <th rowspan=\"8\" valign=\"top\">DiasProblemasMentais</th>\n",
       "      <th>count</th>\n",
       "      <td>35346.000000</td>\n",
       "      <td>35346.000000</td>\n",
       "    </tr>\n",
       "    <tr>\n",
       "      <th>mean</th>\n",
       "      <td>3.042268</td>\n",
       "      <td>4.461806</td>\n",
       "    </tr>\n",
       "    <tr>\n",
       "      <th>std</th>\n",
       "      <td>7.208408</td>\n",
       "      <td>8.947717</td>\n",
       "    </tr>\n",
       "    <tr>\n",
       "      <th>min</th>\n",
       "      <td>0.000000</td>\n",
       "      <td>0.000000</td>\n",
       "    </tr>\n",
       "    <tr>\n",
       "      <th>25%</th>\n",
       "      <td>0.000000</td>\n",
       "      <td>0.000000</td>\n",
       "    </tr>\n",
       "    <tr>\n",
       "      <th>50%</th>\n",
       "      <td>0.000000</td>\n",
       "      <td>0.000000</td>\n",
       "    </tr>\n",
       "    <tr>\n",
       "      <th>75%</th>\n",
       "      <td>2.000000</td>\n",
       "      <td>3.000000</td>\n",
       "    </tr>\n",
       "    <tr>\n",
       "      <th>max</th>\n",
       "      <td>30.000000</td>\n",
       "      <td>30.000000</td>\n",
       "    </tr>\n",
       "    <tr>\n",
       "      <th rowspan=\"8\" valign=\"top\">DiasProblemasFisicos</th>\n",
       "      <th>count</th>\n",
       "      <td>35346.000000</td>\n",
       "      <td>35346.000000</td>\n",
       "    </tr>\n",
       "    <tr>\n",
       "      <th>mean</th>\n",
       "      <td>3.666355</td>\n",
       "      <td>7.954479</td>\n",
       "    </tr>\n",
       "    <tr>\n",
       "      <th>std</th>\n",
       "      <td>8.098339</td>\n",
       "      <td>11.301491</td>\n",
       "    </tr>\n",
       "    <tr>\n",
       "      <th>min</th>\n",
       "      <td>0.000000</td>\n",
       "      <td>0.000000</td>\n",
       "    </tr>\n",
       "    <tr>\n",
       "      <th>25%</th>\n",
       "      <td>0.000000</td>\n",
       "      <td>0.000000</td>\n",
       "    </tr>\n",
       "    <tr>\n",
       "      <th>50%</th>\n",
       "      <td>0.000000</td>\n",
       "      <td>1.000000</td>\n",
       "    </tr>\n",
       "    <tr>\n",
       "      <th>75%</th>\n",
       "      <td>2.000000</td>\n",
       "      <td>15.000000</td>\n",
       "    </tr>\n",
       "    <tr>\n",
       "      <th>max</th>\n",
       "      <td>30.000000</td>\n",
       "      <td>30.000000</td>\n",
       "    </tr>\n",
       "  </tbody>\n",
       "</table>\n",
       "</div>"
      ],
      "text/plain": [
       "Diabetes                             Não           Sim\n",
       "IMC                  count  35346.000000  35346.000000\n",
       "                     mean      27.769960     31.944011\n",
       "                     std        6.187636      7.363401\n",
       "                     min       12.000000     13.000000\n",
       "                     25%       24.000000     27.000000\n",
       "                     50%       27.000000     31.000000\n",
       "                     75%       31.000000     35.000000\n",
       "                     max       98.000000     98.000000\n",
       "DiasProblemasMentais count  35346.000000  35346.000000\n",
       "                     mean       3.042268      4.461806\n",
       "                     std        7.208408      8.947717\n",
       "                     min        0.000000      0.000000\n",
       "                     25%        0.000000      0.000000\n",
       "                     50%        0.000000      0.000000\n",
       "                     75%        2.000000      3.000000\n",
       "                     max       30.000000     30.000000\n",
       "DiasProblemasFisicos count  35346.000000  35346.000000\n",
       "                     mean       3.666355      7.954479\n",
       "                     std        8.098339     11.301491\n",
       "                     min        0.000000      0.000000\n",
       "                     25%        0.000000      0.000000\n",
       "                     50%        0.000000      1.000000\n",
       "                     75%        2.000000     15.000000\n",
       "                     max       30.000000     30.000000"
      ]
     },
     "execution_count": 18,
     "metadata": {},
     "output_type": "execute_result"
    }
   ],
   "source": [
    "df_diabetes_tratado.groupby(coluna_alvo, observed=False).describe().T"
   ]
  },
  {
   "cell_type": "code",
   "execution_count": 19,
   "metadata": {},
   "outputs": [
    {
     "data": {
      "text/html": [
       "<div>\n",
       "<style scoped>\n",
       "    .dataframe tbody tr th:only-of-type {\n",
       "        vertical-align: middle;\n",
       "    }\n",
       "\n",
       "    .dataframe tbody tr th {\n",
       "        vertical-align: top;\n",
       "    }\n",
       "\n",
       "    .dataframe thead th {\n",
       "        text-align: right;\n",
       "    }\n",
       "</style>\n",
       "<table border=\"1\" class=\"dataframe\">\n",
       "  <thead>\n",
       "    <tr style=\"text-align: right;\">\n",
       "      <th></th>\n",
       "      <th>IMC</th>\n",
       "      <th>DiasProblemasMentais</th>\n",
       "      <th>DiasProblemasFisicos</th>\n",
       "    </tr>\n",
       "  </thead>\n",
       "  <tbody>\n",
       "    <tr>\n",
       "      <th>IMC</th>\n",
       "      <td>1.000000</td>\n",
       "      <td>0.104682</td>\n",
       "      <td>0.161862</td>\n",
       "    </tr>\n",
       "    <tr>\n",
       "      <th>DiasProblemasMentais</th>\n",
       "      <td>0.104682</td>\n",
       "      <td>1.000000</td>\n",
       "      <td>0.380272</td>\n",
       "    </tr>\n",
       "    <tr>\n",
       "      <th>DiasProblemasFisicos</th>\n",
       "      <td>0.161862</td>\n",
       "      <td>0.380272</td>\n",
       "      <td>1.000000</td>\n",
       "    </tr>\n",
       "  </tbody>\n",
       "</table>\n",
       "</div>"
      ],
      "text/plain": [
       "                           IMC  DiasProblemasMentais  DiasProblemasFisicos\n",
       "IMC                   1.000000              0.104682              0.161862\n",
       "DiasProblemasMentais  0.104682              1.000000              0.380272\n",
       "DiasProblemasFisicos  0.161862              0.380272              1.000000"
      ]
     },
     "execution_count": 19,
     "metadata": {},
     "output_type": "execute_result"
    }
   ],
   "source": [
    "df_diabetes_tratado.corr(numeric_only=True)"
   ]
  },
  {
   "cell_type": "markdown",
   "metadata": {},
   "source": [
    "- teste t de Student para comparar médias de IMC entre diabéticos e não diabéticos?\n",
    "- ou teste de Mann-Whitney U para comparar medianas de IMC entre diabéticos e não diabéticos?"
   ]
  },
  {
   "cell_type": "markdown",
   "metadata": {},
   "source": [
    "### Faz sentido testar a normalidade das variáveis numéricas?"
   ]
  },
  {
   "cell_type": "code",
   "execution_count": 22,
   "metadata": {},
   "outputs": [
    {
     "data": {
      "text/html": [
       "<div>\n",
       "<style scoped>\n",
       "    .dataframe tbody tr th:only-of-type {\n",
       "        vertical-align: middle;\n",
       "    }\n",
       "\n",
       "    .dataframe tbody tr th {\n",
       "        vertical-align: top;\n",
       "    }\n",
       "\n",
       "    .dataframe thead th {\n",
       "        text-align: right;\n",
       "    }\n",
       "</style>\n",
       "<table border=\"1\" class=\"dataframe\">\n",
       "  <thead>\n",
       "    <tr style=\"text-align: right;\">\n",
       "      <th></th>\n",
       "      <th>IMC</th>\n",
       "      <th>DiasProblemasMentais</th>\n",
       "      <th>DiasProblemasFisicos</th>\n",
       "    </tr>\n",
       "    <tr>\n",
       "      <th>Diabetes</th>\n",
       "      <th></th>\n",
       "      <th></th>\n",
       "      <th></th>\n",
       "    </tr>\n",
       "  </thead>\n",
       "  <tbody>\n",
       "    <tr>\n",
       "      <th>Não</th>\n",
       "      <td>2.231015</td>\n",
       "      <td>2.808070</td>\n",
       "      <td>2.480202</td>\n",
       "    </tr>\n",
       "    <tr>\n",
       "      <th>Sim</th>\n",
       "      <td>1.527018</td>\n",
       "      <td>2.065169</td>\n",
       "      <td>1.150047</td>\n",
       "    </tr>\n",
       "  </tbody>\n",
       "</table>\n",
       "</div>"
      ],
      "text/plain": [
       "               IMC  DiasProblemasMentais  DiasProblemasFisicos\n",
       "Diabetes                                                      \n",
       "Não       2.231015              2.808070              2.480202\n",
       "Sim       1.527018              2.065169              1.150047"
      ]
     },
     "execution_count": 22,
     "metadata": {},
     "output_type": "execute_result"
    }
   ],
   "source": [
    "df_diabetes_tratado.groupby(coluna_alvo, observed=False).skew(numeric_only=True)"
   ]
  },
  {
   "cell_type": "code",
   "execution_count": 23,
   "metadata": {},
   "outputs": [
    {
     "data": {
      "text/html": [
       "<div>\n",
       "<style scoped>\n",
       "    .dataframe tbody tr th:only-of-type {\n",
       "        vertical-align: middle;\n",
       "    }\n",
       "\n",
       "    .dataframe tbody tr th {\n",
       "        vertical-align: top;\n",
       "    }\n",
       "\n",
       "    .dataframe thead th {\n",
       "        text-align: right;\n",
       "    }\n",
       "</style>\n",
       "<table border=\"1\" class=\"dataframe\">\n",
       "  <thead>\n",
       "    <tr style=\"text-align: right;\">\n",
       "      <th></th>\n",
       "      <th>IMC</th>\n",
       "      <th>DiasProblemasMentais</th>\n",
       "      <th>DiasProblemasFisicos</th>\n",
       "    </tr>\n",
       "    <tr>\n",
       "      <th>Diabetes</th>\n",
       "      <th></th>\n",
       "      <th></th>\n",
       "      <th></th>\n",
       "    </tr>\n",
       "  </thead>\n",
       "  <tbody>\n",
       "    <tr>\n",
       "      <th>Não</th>\n",
       "      <td>12.901012</td>\n",
       "      <td>7.012218</td>\n",
       "      <td>4.910598</td>\n",
       "    </tr>\n",
       "    <tr>\n",
       "      <th>Sim</th>\n",
       "      <td>5.717382</td>\n",
       "      <td>2.873176</td>\n",
       "      <td>-0.341922</td>\n",
       "    </tr>\n",
       "  </tbody>\n",
       "</table>\n",
       "</div>"
      ],
      "text/plain": [
       "                IMC  DiasProblemasMentais  DiasProblemasFisicos\n",
       "Diabetes                                                       \n",
       "Não       12.901012              7.012218              4.910598\n",
       "Sim        5.717382              2.873176             -0.341922"
      ]
     },
     "execution_count": 23,
     "metadata": {},
     "output_type": "execute_result"
    }
   ],
   "source": [
    "df_diabetes_tratado.groupby(coluna_alvo, observed=False)[colunas_numericas].apply(pd.DataFrame.kurtosis)"
   ]
  },
  {
   "cell_type": "code",
   "execution_count": 24,
   "metadata": {},
   "outputs": [],
   "source": [
    "dados_imc_sim = df_diabetes_tratado.query(\"Diabetes == 'Sim'\")[\"IMC\"].values\n",
    "\n",
    "dados_imc_nao = df_diabetes_tratado.query(\"Diabetes == 'Não'\")[\"IMC\"].values"
   ]
  },
  {
   "cell_type": "code",
   "execution_count": 25,
   "metadata": {},
   "outputs": [
    {
     "data": {
      "text/html": [
       "<div>\n",
       "<style scoped>\n",
       "    .dataframe tbody tr th:only-of-type {\n",
       "        vertical-align: middle;\n",
       "    }\n",
       "\n",
       "    .dataframe tbody tr th {\n",
       "        vertical-align: top;\n",
       "    }\n",
       "\n",
       "    .dataframe thead th {\n",
       "        text-align: right;\n",
       "    }\n",
       "</style>\n",
       "<table border=\"1\" class=\"dataframe\">\n",
       "  <thead>\n",
       "    <tr style=\"text-align: right;\">\n",
       "      <th></th>\n",
       "      <th>Sim</th>\n",
       "      <th>Não</th>\n",
       "    </tr>\n",
       "  </thead>\n",
       "  <tbody>\n",
       "  </tbody>\n",
       "</table>\n",
       "</div>"
      ],
      "text/plain": [
       "Empty DataFrame\n",
       "Columns: [Sim, Não]\n",
       "Index: []"
      ]
     },
     "execution_count": 25,
     "metadata": {},
     "output_type": "execute_result"
    }
   ],
   "source": [
    "dataframe_imc = pd.DataFrame({\"Sim\": dados_imc_sim, \"Não\": dados_imc_nao})\n",
    "\n",
    "dataframe_imc"
   ]
  },
  {
   "cell_type": "code",
   "execution_count": 26,
   "metadata": {},
   "outputs": [
    {
     "name": "stdout",
     "output_type": "stream",
     "text": [
      "Teste de Levene\n",
      "estatistica_levene=nan\n",
      "Ao menos uma variância é diferente (valor p: nan)\n"
     ]
    },
    {
     "name": "stderr",
     "output_type": "stream",
     "text": [
      "C:\\Users\\feals\\anaconda3\\Lib\\site-packages\\numpy\\core\\fromnumeric.py:3504: RuntimeWarning: Mean of empty slice.\n",
      "  return _methods._mean(a, axis=axis, dtype=dtype,\n",
      "C:\\Users\\feals\\anaconda3\\Lib\\site-packages\\numpy\\core\\_methods.py:129: RuntimeWarning: invalid value encountered in scalar divide\n",
      "  ret = ret.dtype.type(ret / rcount)\n"
     ]
    }
   ],
   "source": [
    "analise_levene(dataframe_imc, centro=\"median\")"
   ]
  },
  {
   "cell_type": "code",
   "execution_count": 27,
   "metadata": {},
   "outputs": [
    {
     "name": "stdout",
     "output_type": "stream",
     "text": [
      "Teste t de Student\n",
      "estatistica_ttest=nan\n",
      "Rejeita a hipótese nula (valor p: nan)\n"
     ]
    }
   ],
   "source": [
    "analise_ttest_ind(dataframe_imc, variancias_iguais=False)"
   ]
  },
  {
   "cell_type": "code",
   "execution_count": 28,
   "metadata": {},
   "outputs": [
    {
     "name": "stdout",
     "output_type": "stream",
     "text": [
      "Teste de Mann-Whitney\n"
     ]
    },
    {
     "ename": "ValueError",
     "evalue": "`x` and `y` must be of nonzero size.",
     "output_type": "error",
     "traceback": [
      "\u001b[1;31m---------------------------------------------------------------------------\u001b[0m",
      "\u001b[1;31mValueError\u001b[0m                                Traceback (most recent call last)",
      "Cell \u001b[1;32mIn[28], line 1\u001b[0m\n\u001b[1;32m----> 1\u001b[0m \u001b[43manalise_mannwhitneyu\u001b[49m\u001b[43m(\u001b[49m\u001b[43mdataframe_imc\u001b[49m\u001b[43m)\u001b[49m\n",
      "File \u001b[1;32m~\\Documents\\Modelo-Projeto-Teste\\notebooks\\src\\estatistica.py:52\u001b[0m, in \u001b[0;36manalise_mannwhitneyu\u001b[1;34m(dataframe, alfa, alternativa)\u001b[0m\n\u001b[0;32m     45\u001b[0m \u001b[38;5;28;01mdef\u001b[39;00m \u001b[38;5;21manalise_mannwhitneyu\u001b[39m(\n\u001b[0;32m     46\u001b[0m     dataframe,\n\u001b[0;32m     47\u001b[0m     alfa\u001b[38;5;241m=\u001b[39m\u001b[38;5;241m0.05\u001b[39m,\n\u001b[0;32m     48\u001b[0m     alternativa\u001b[38;5;241m=\u001b[39m\u001b[38;5;124m\"\u001b[39m\u001b[38;5;124mtwo-sided\u001b[39m\u001b[38;5;124m\"\u001b[39m,\n\u001b[0;32m     49\u001b[0m ):\n\u001b[0;32m     51\u001b[0m     \u001b[38;5;28mprint\u001b[39m(\u001b[38;5;124m\"\u001b[39m\u001b[38;5;124mTeste de Mann-Whitney\u001b[39m\u001b[38;5;124m\"\u001b[39m)\n\u001b[1;32m---> 52\u001b[0m     estatistica_mw, valor_p_mw \u001b[38;5;241m=\u001b[39m \u001b[43mmannwhitneyu\u001b[49m\u001b[43m(\u001b[49m\n\u001b[0;32m     53\u001b[0m \u001b[43m        \u001b[49m\u001b[38;5;241;43m*\u001b[39;49m\u001b[43m[\u001b[49m\u001b[43mdataframe\u001b[49m\u001b[43m[\u001b[49m\u001b[43mcoluna\u001b[49m\u001b[43m]\u001b[49m\u001b[43m \u001b[49m\u001b[38;5;28;43;01mfor\u001b[39;49;00m\u001b[43m \u001b[49m\u001b[43mcoluna\u001b[49m\u001b[43m \u001b[49m\u001b[38;5;129;43;01min\u001b[39;49;00m\u001b[43m \u001b[49m\u001b[43mdataframe\u001b[49m\u001b[38;5;241;43m.\u001b[39;49m\u001b[43mcolumns\u001b[49m\u001b[43m]\u001b[49m\u001b[43m,\u001b[49m\n\u001b[0;32m     54\u001b[0m \u001b[43m        \u001b[49m\u001b[43mnan_policy\u001b[49m\u001b[38;5;241;43m=\u001b[39;49m\u001b[38;5;124;43m\"\u001b[39;49m\u001b[38;5;124;43momit\u001b[39;49m\u001b[38;5;124;43m\"\u001b[39;49m\u001b[43m,\u001b[49m\n\u001b[0;32m     55\u001b[0m \u001b[43m        \u001b[49m\u001b[43malternative\u001b[49m\u001b[38;5;241;43m=\u001b[39;49m\u001b[43malternativa\u001b[49m\u001b[43m,\u001b[49m\n\u001b[0;32m     56\u001b[0m \u001b[43m    \u001b[49m\u001b[43m)\u001b[49m\n\u001b[0;32m     58\u001b[0m     \u001b[38;5;28mprint\u001b[39m(\u001b[38;5;124mf\u001b[39m\u001b[38;5;124m\"\u001b[39m\u001b[38;5;132;01m{\u001b[39;00mestatistica_mw\u001b[38;5;132;01m=:\u001b[39;00m\u001b[38;5;124m.3f\u001b[39m\u001b[38;5;132;01m}\u001b[39;00m\u001b[38;5;124m\"\u001b[39m)\n\u001b[0;32m     59\u001b[0m     \u001b[38;5;28;01mif\u001b[39;00m valor_p_mw \u001b[38;5;241m>\u001b[39m alfa:\n",
      "File \u001b[1;32m~\\anaconda3\\Lib\\site-packages\\scipy\\stats\\_axis_nan_policy.py:531\u001b[0m, in \u001b[0;36m_axis_nan_policy_factory.<locals>.axis_nan_policy_decorator.<locals>.axis_nan_policy_wrapper\u001b[1;34m(***failed resolving arguments***)\u001b[0m\n\u001b[0;32m    529\u001b[0m \u001b[38;5;28;01mif\u001b[39;00m sentinel:\n\u001b[0;32m    530\u001b[0m     samples \u001b[38;5;241m=\u001b[39m _remove_sentinel(samples, paired, sentinel)\n\u001b[1;32m--> 531\u001b[0m res \u001b[38;5;241m=\u001b[39m \u001b[43mhypotest_fun_out\u001b[49m\u001b[43m(\u001b[49m\u001b[38;5;241;43m*\u001b[39;49m\u001b[43msamples\u001b[49m\u001b[43m,\u001b[49m\u001b[43m \u001b[49m\u001b[38;5;241;43m*\u001b[39;49m\u001b[38;5;241;43m*\u001b[39;49m\u001b[43mkwds\u001b[49m\u001b[43m)\u001b[49m\n\u001b[0;32m    532\u001b[0m res \u001b[38;5;241m=\u001b[39m result_to_tuple(res)\n\u001b[0;32m    533\u001b[0m res \u001b[38;5;241m=\u001b[39m _add_reduced_axes(res, reduced_axes, keepdims)\n",
      "File \u001b[1;32m~\\anaconda3\\Lib\\site-packages\\scipy\\stats\\_mannwhitneyu.py:475\u001b[0m, in \u001b[0;36mmannwhitneyu\u001b[1;34m(x, y, use_continuity, alternative, axis, method)\u001b[0m\n\u001b[0;32m    251\u001b[0m \u001b[38;5;129m@_axis_nan_policy_factory\u001b[39m(MannwhitneyuResult, n_samples\u001b[38;5;241m=\u001b[39m\u001b[38;5;241m2\u001b[39m)\n\u001b[0;32m    252\u001b[0m \u001b[38;5;28;01mdef\u001b[39;00m \u001b[38;5;21mmannwhitneyu\u001b[39m(x, y, use_continuity\u001b[38;5;241m=\u001b[39m\u001b[38;5;28;01mTrue\u001b[39;00m, alternative\u001b[38;5;241m=\u001b[39m\u001b[38;5;124m\"\u001b[39m\u001b[38;5;124mtwo-sided\u001b[39m\u001b[38;5;124m\"\u001b[39m,\n\u001b[0;32m    253\u001b[0m                  axis\u001b[38;5;241m=\u001b[39m\u001b[38;5;241m0\u001b[39m, method\u001b[38;5;241m=\u001b[39m\u001b[38;5;124m\"\u001b[39m\u001b[38;5;124mauto\u001b[39m\u001b[38;5;124m\"\u001b[39m):\n\u001b[0;32m    254\u001b[0m \u001b[38;5;250m    \u001b[39m\u001b[38;5;124mr\u001b[39m\u001b[38;5;124;03m'''Perform the Mann-Whitney U rank test on two independent samples.\u001b[39;00m\n\u001b[0;32m    255\u001b[0m \n\u001b[0;32m    256\u001b[0m \u001b[38;5;124;03m    The Mann-Whitney U test is a nonparametric test of the null hypothesis\u001b[39;00m\n\u001b[1;32m   (...)\u001b[0m\n\u001b[0;32m    471\u001b[0m \n\u001b[0;32m    472\u001b[0m \u001b[38;5;124;03m    '''\u001b[39;00m\n\u001b[0;32m    474\u001b[0m     x, y, use_continuity, alternative, axis_int, method \u001b[38;5;241m=\u001b[39m (\n\u001b[1;32m--> 475\u001b[0m         \u001b[43m_mwu_input_validation\u001b[49m\u001b[43m(\u001b[49m\u001b[43mx\u001b[49m\u001b[43m,\u001b[49m\u001b[43m \u001b[49m\u001b[43my\u001b[49m\u001b[43m,\u001b[49m\u001b[43m \u001b[49m\u001b[43muse_continuity\u001b[49m\u001b[43m,\u001b[49m\u001b[43m \u001b[49m\u001b[43malternative\u001b[49m\u001b[43m,\u001b[49m\u001b[43m \u001b[49m\u001b[43maxis\u001b[49m\u001b[43m,\u001b[49m\u001b[43m \u001b[49m\u001b[43mmethod\u001b[49m\u001b[43m)\u001b[49m)\n\u001b[0;32m    477\u001b[0m     x, y, xy \u001b[38;5;241m=\u001b[39m _broadcast_concatenate(x, y, axis)\n\u001b[0;32m    479\u001b[0m     n1, n2 \u001b[38;5;241m=\u001b[39m x\u001b[38;5;241m.\u001b[39mshape[\u001b[38;5;241m-\u001b[39m\u001b[38;5;241m1\u001b[39m], y\u001b[38;5;241m.\u001b[39mshape[\u001b[38;5;241m-\u001b[39m\u001b[38;5;241m1\u001b[39m]\n",
      "File \u001b[1;32m~\\anaconda3\\Lib\\site-packages\\scipy\\stats\\_mannwhitneyu.py:210\u001b[0m, in \u001b[0;36m_mwu_input_validation\u001b[1;34m(x, y, use_continuity, alternative, axis, method)\u001b[0m\n\u001b[0;32m    208\u001b[0m     \u001b[38;5;28;01mraise\u001b[39;00m \u001b[38;5;167;01mValueError\u001b[39;00m(\u001b[38;5;124m'\u001b[39m\u001b[38;5;124m`x` and `y` must not contain NaNs.\u001b[39m\u001b[38;5;124m'\u001b[39m)\n\u001b[0;32m    209\u001b[0m \u001b[38;5;28;01mif\u001b[39;00m np\u001b[38;5;241m.\u001b[39msize(x) \u001b[38;5;241m==\u001b[39m \u001b[38;5;241m0\u001b[39m \u001b[38;5;129;01mor\u001b[39;00m np\u001b[38;5;241m.\u001b[39msize(y) \u001b[38;5;241m==\u001b[39m \u001b[38;5;241m0\u001b[39m:\n\u001b[1;32m--> 210\u001b[0m     \u001b[38;5;28;01mraise\u001b[39;00m \u001b[38;5;167;01mValueError\u001b[39;00m(\u001b[38;5;124m'\u001b[39m\u001b[38;5;124m`x` and `y` must be of nonzero size.\u001b[39m\u001b[38;5;124m'\u001b[39m)\n\u001b[0;32m    212\u001b[0m bools \u001b[38;5;241m=\u001b[39m {\u001b[38;5;28;01mTrue\u001b[39;00m, \u001b[38;5;28;01mFalse\u001b[39;00m}\n\u001b[0;32m    213\u001b[0m \u001b[38;5;28;01mif\u001b[39;00m use_continuity \u001b[38;5;129;01mnot\u001b[39;00m \u001b[38;5;129;01min\u001b[39;00m bools:\n",
      "\u001b[1;31mValueError\u001b[0m: `x` and `y` must be of nonzero size."
     ]
    }
   ],
   "source": [
    "analise_mannwhitneyu(dataframe_imc)"
   ]
  },
  {
   "cell_type": "markdown",
   "metadata": {},
   "source": [
    "### Os outliers interferem?"
   ]
  },
  {
   "cell_type": "code",
   "execution_count": null,
   "metadata": {},
   "outputs": [],
   "source": [
    "df_diabetes_sem_outliers = df_diabetes_tratado.copy()\n",
    "\n",
    "for coluna in colunas_numericas:\n",
    "    df_diabetes_sem_outliers[coluna] = remove_outliers(df_diabetes_sem_outliers[coluna])\n",
    "\n",
    "df_diabetes_sem_outliers.describe()"
   ]
  },
  {
   "cell_type": "code",
   "execution_count": null,
   "metadata": {},
   "outputs": [],
   "source": [
    "df_diabetes_sem_outliers.info()"
   ]
  },
  {
   "cell_type": "code",
   "execution_count": null,
   "metadata": {},
   "outputs": [],
   "source": [
    "fig, axs = plt.subplots(1, 3, figsize=(10, 4))\n",
    "\n",
    "for ax, coluna in zip(axs, colunas_numericas):\n",
    "    sns.boxplot(data=df_diabetes_sem_outliers, x=coluna_alvo, y=coluna, ax=ax)\n",
    "\n",
    "plt.tight_layout()\n",
    "plt.show()\n"
   ]
  },
  {
   "cell_type": "code",
   "execution_count": null,
   "metadata": {},
   "outputs": [],
   "source": [
    "fig, axs = plt.subplots(1, 3, figsize=(10, 4))\n",
    "\n",
    "for ax, coluna in zip(axs, colunas_numericas):\n",
    "    sns.histplot(data=df_diabetes_sem_outliers, x=coluna, hue=coluna_alvo, kde=True, ax=ax)\n",
    "\n",
    "plt.tight_layout()\n",
    "plt.show()"
   ]
  },
  {
   "cell_type": "code",
   "execution_count": null,
   "metadata": {},
   "outputs": [],
   "source": [
    "df_diabetes_sem_outliers.groupby(coluna_alvo, observed=False).skew(numeric_only=True)"
   ]
  },
  {
   "cell_type": "code",
   "execution_count": null,
   "metadata": {},
   "outputs": [],
   "source": [
    "df_diabetes_sem_outliers.groupby(coluna_alvo, observed=False)[colunas_numericas].apply(pd.DataFrame.kurtosis)"
   ]
  },
  {
   "cell_type": "code",
   "execution_count": null,
   "metadata": {},
   "outputs": [],
   "source": [
    "dados_imc_sim_sem_outliers = df_diabetes_sem_outliers.query(\"Diabetes == 'Sim'\")[\"IMC\"].values\n",
    "dados_imc_nao_sem_outliers = df_diabetes_sem_outliers.query(\"Diabetes == 'Não'\")[\"IMC\"].values\n",
    "\n",
    "dataframe_imc_sem_outliers = pd.DataFrame({\"Sim\": dados_imc_sim_sem_outliers, \"Não\": dados_imc_nao_sem_outliers})\n",
    "dataframe_imc_sem_outliers"
   ]
  },
  {
   "cell_type": "code",
   "execution_count": null,
   "metadata": {},
   "outputs": [],
   "source": [
    "dados_imc_nao_sem_outliers.mean()"
   ]
  },
  {
   "cell_type": "code",
   "execution_count": null,
   "metadata": {},
   "outputs": [],
   "source": [
    "dataframe_imc_sem_outliers[\"Não\"].mean()"
   ]
  },
  {
   "cell_type": "code",
   "execution_count": null,
   "metadata": {},
   "outputs": [],
   "source": [
    "print(\n",
    "    kstest(\n",
    "        dataframe_imc_sem_outliers[\"Não\"], \n",
    "        norm.cdf, \n",
    "        args=(dataframe_imc_sem_outliers[\"Não\"].mean(), \n",
    "              dataframe_imc_sem_outliers[\"Não\"].std()), \n",
    "        nan_policy=\"omit\")\n",
    ")\n",
    "\n",
    "print(\n",
    "    kstest(\n",
    "        dataframe_imc_sem_outliers[\"Sim\"], \n",
    "        norm.cdf, \n",
    "        args=(dataframe_imc_sem_outliers[\"Sim\"].mean(), \n",
    "              dataframe_imc_sem_outliers[\"Sim\"].std()), \n",
    "        nan_policy=\"omit\")\n",
    ")"
   ]
  },
  {
   "cell_type": "code",
   "execution_count": null,
   "metadata": {},
   "outputs": [],
   "source": [
    "analise_levene(dataframe_imc_sem_outliers, centro=\"median\")"
   ]
  },
  {
   "cell_type": "code",
   "execution_count": null,
   "metadata": {},
   "outputs": [],
   "source": [
    "analise_ttest_ind(dataframe_imc_sem_outliers, variancias_iguais=False)"
   ]
  },
  {
   "cell_type": "code",
   "execution_count": null,
   "metadata": {},
   "outputs": [],
   "source": [
    "analise_mannwhitneyu(dataframe_imc_sem_outliers)"
   ]
  },
  {
   "cell_type": "markdown",
   "metadata": {},
   "source": [
    "Links e artigos sobre testes de hipótese em datasets grandes:\n",
    "\n",
    "- https://stats.stackexchange.com/questions/2492/is-normality-testing-essentially-useless\n",
    "- https://www.ncbi.nlm.nih.gov/pmc/articles/PMC3693611/pdf/ijem-10-486.pdf\n",
    "- https://www.bmj.com/content/bmj/310/6975/298.full.pdf\n",
    "- https://bmcmedresmethodol.biomedcentral.com/articles/10.1186/1471-2288-12-81"
   ]
  },
  {
   "cell_type": "markdown",
   "metadata": {},
   "source": [
    "### Variáveis categóricas"
   ]
  },
  {
   "cell_type": "code",
   "execution_count": null,
   "metadata": {},
   "outputs": [],
   "source": [
    "fig, axs = plt.subplots(nrows=4, ncols=4, figsize=(14, 16), sharey=True)\n",
    "\n",
    "for i, coluna in enumerate(colunas_binarias):\n",
    "    h = sns.histplot(x=coluna,\n",
    "                     hue=coluna_alvo,\n",
    "                     data=df_diabetes_tratado,\n",
    "                     multiple='fill',\n",
    "                     ax=axs.flat[i],\n",
    "                     stat='percent',\n",
    "                     shrink=0.8)\n",
    "    h.tick_params(axis='x', labelrotation=45)\n",
    "\n",
    "    h.yaxis.set_major_formatter(PercentFormatter(1))\n",
    "    h.set_ylabel('')\n",
    "\n",
    "    for bar in h.containers:\n",
    "        h.bar_label(bar, label_type='center', labels=[f'{b.get_height():.1%}' for b in bar], color='white', weight='bold')\n",
    "\n",
    "    legend = h.get_legend()\n",
    "    legend.remove()\n",
    "\n",
    "labels = [text.get_text() for text in legend.get_texts()]\n",
    "\n",
    "fig.legend(handles=legend.legend_handles, labels=labels, loc='upper center', ncols=2, title='Diabetes', bbox_to_anchor=(0.5, 0.965))\n",
    "fig.suptitle('Diabetes por variável categórica', fontsize=16)\n",
    "\n",
    "fig.align_labels()\n",
    "\n",
    "plt.subplots_adjust(wspace=0.4, hspace=0.4, top=0.925)\n",
    "\n",
    "plt.show()"
   ]
  },
  {
   "cell_type": "code",
   "execution_count": null,
   "metadata": {},
   "outputs": [],
   "source": [
    "fig, axs = plt.subplots(nrows=4, ncols=1, figsize=(12, 16))\n",
    "\n",
    "for i, coluna in enumerate(colunas_nao_binarias):\n",
    "    h = sns.histplot(x=coluna,\n",
    "                     hue=coluna_alvo,\n",
    "                     data=df_diabetes_tratado,\n",
    "                     multiple='fill',\n",
    "                     ax=axs.flat[i],\n",
    "                     stat='percent',\n",
    "                     shrink=0.8)\n",
    "    h.tick_params(axis='x', labelrotation=45)\n",
    "\n",
    "    h.yaxis.set_major_formatter(PercentFormatter(1))\n",
    "    h.set_ylabel('')\n",
    "\n",
    "    for bar in h.containers:\n",
    "        h.bar_label(bar, label_type='center', labels=[f'{b.get_height():.1%}' for b in bar], color='white', weight='bold')\n",
    "\n",
    "    legend = h.get_legend()\n",
    "    legend.remove()\n",
    "\n",
    "labels = [text.get_text() for text in legend.get_texts()]\n",
    "\n",
    "fig.legend(handles=legend.legend_handles, labels=labels, loc='upper center', ncols=2, title='Diabetes', bbox_to_anchor=(0.5, 0.965))\n",
    "fig.suptitle('Diabetes por variável categórica', fontsize=16)\n",
    "\n",
    "fig.align_labels()\n",
    "\n",
    "plt.subplots_adjust(wspace=0.1, hspace=0.7, top=0.925)\n",
    "\n",
    "plt.show()"
   ]
  },
  {
   "cell_type": "code",
   "execution_count": null,
   "metadata": {},
   "outputs": [],
   "source": [
    "colunas_analise = [\"SaudeGeral\", \"FaixaRenda\"]\n",
    "\n",
    "fig, axs = plt.subplots(nrows=2, ncols=1, figsize=(12, 16))\n",
    "\n",
    "for ax, coluna in zip(axs.flatten(), colunas_analise):\n",
    "    h = sns.histplot(x=\"Ensino\",\n",
    "                     hue=coluna,\n",
    "                     data=df_diabetes_tratado,\n",
    "                     multiple='fill',\n",
    "                     ax=ax,\n",
    "                     stat='percent',\n",
    "                     shrink=0.8)\n",
    "    h.tick_params(axis='x', labelrotation=45)\n",
    "\n",
    "    h.yaxis.set_major_formatter(PercentFormatter(1))\n",
    "    h.set_ylabel('')\n",
    "\n",
    "    for bar in h.containers:\n",
    "        h.bar_label(bar, label_type='center', labels=[f'{b.get_height():.1%}' for b in bar], color='white', weight='bold')\n",
    "\n",
    "    legend = h.get_legend()\n",
    "\n",
    "    labels = [text.get_text() for text in legend.get_texts()]\n",
    "\n",
    "    numero_itens = len(df_diabetes_tratado[coluna].cat.categories)\n",
    "\n",
    "    ax.legend(\n",
    "        handles=legend.legend_handles,\n",
    "        labels=labels,\n",
    "        loc=\"upper center\",\n",
    "        ncols=numero_itens if numero_itens <= 6 else min(4, numero_itens),\n",
    "        bbox_to_anchor=(0.5, 1.15),\n",
    "    )\n",
    "\n",
    "    ax.set_title(f\"Distribuição de {coluna} por nível de ensino\", fontsize=14, pad=55)\n",
    "\n",
    "plt.subplots_adjust(wspace=0.1, hspace=0.6, top=0.925)\n",
    "\n",
    "plt.show()"
   ]
  },
  {
   "cell_type": "code",
   "execution_count": null,
   "metadata": {},
   "outputs": [],
   "source": [
    "tabelas_contingencia = {}\n",
    "\n",
    "for coluna in df_diabetes_tratado.select_dtypes(\"category\").columns:\n",
    "    if coluna != coluna_alvo:\n",
    "        tabelas_contingencia[coluna] = pd.crosstab(df_diabetes_tratado[coluna_alvo], df_diabetes_tratado[coluna])"
   ]
  },
  {
   "cell_type": "code",
   "execution_count": null,
   "metadata": {},
   "outputs": [],
   "source": [
    "tabelas_contingencia[\"PressaoAlta\"]"
   ]
  },
  {
   "cell_type": "code",
   "execution_count": null,
   "metadata": {},
   "outputs": [],
   "source": [
    "for coluna in df_diabetes_tratado.select_dtypes(\"category\").columns:\n",
    "    if coluna != coluna_alvo:\n",
    "        display(\n",
    "            pd.crosstab(\n",
    "                df_diabetes_tratado[coluna_alvo],\n",
    "                df_diabetes_tratado[coluna],\n",
    "                margins=True,\n",
    "                normalize=\"index\"\n",
    "            ).style.format(\"{:.2%}\"))"
   ]
  },
  {
   "cell_type": "code",
   "execution_count": null,
   "metadata": {},
   "outputs": [],
   "source": [
    "for coluna, tabela in tabelas_contingencia.items():\n",
    "    chi2, valor_p, _, _ = chi2_contingency(tabela)\n",
    "    print(f\"{coluna} - {chi2=} - {valor_p=}\")"
   ]
  },
  {
   "cell_type": "code",
   "execution_count": null,
   "metadata": {},
   "outputs": [],
   "source": [
    "resultados_correlacao = df_diabetes_tratado.select_dtypes(\"category\").apply(lambda coluna: coluna.cat.codes).corr(method=\"spearman\", numeric_only=False)\n",
    "\n",
    "resultados_correlacao"
   ]
  },
  {
   "cell_type": "code",
   "execution_count": null,
   "metadata": {},
   "outputs": [],
   "source": [
    "matriz = np.triu(resultados_correlacao)\n",
    "\n",
    "fig, ax = plt.subplots(figsize=(12, 12))\n",
    "\n",
    "sns.heatmap(resultados_correlacao, mask=matriz, annot=True, fmt=\".2f\", ax=ax, cmap=\"coolwarm\")\n",
    "\n",
    "plt.title(\"Coeficiente de Spearman entre variáveis categóricas\", fontsize=16)\n",
    "\n",
    "plt.show()"
   ]
  },
  {
   "cell_type": "code",
   "execution_count": null,
   "metadata": {},
   "outputs": [],
   "source": []
  },
  {
   "cell_type": "code",
   "execution_count": null,
   "metadata": {},
   "outputs": [],
   "source": []
  },
  {
   "cell_type": "code",
   "execution_count": null,
   "metadata": {},
   "outputs": [],
   "source": []
  }
 ],
 "metadata": {
  "kernelspec": {
   "display_name": "Python 3 (ipykernel)",
   "language": "python",
   "name": "python3"
  },
  "language_info": {
   "codemirror_mode": {
    "name": "ipython",
    "version": 3
   },
   "file_extension": ".py",
   "mimetype": "text/x-python",
   "name": "python",
   "nbconvert_exporter": "python",
   "pygments_lexer": "ipython3",
   "version": "3.12.4"
  }
 },
 "nbformat": 4,
 "nbformat_minor": 4
}
